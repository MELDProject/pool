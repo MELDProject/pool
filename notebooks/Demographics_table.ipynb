{
 "cells": [
  {
   "cell_type": "markdown",
   "metadata": {},
   "source": [
    "## Demographics tables\n"
   ]
  },
  {
   "cell_type": "markdown",
   "metadata": {},
   "source": [
    "This notebook loads in the demographic features for all participants after QC has occured. \n",
    "\n",
    "It plots the demographics table and the outcome per histology table\n"
   ]
  },
  {
   "cell_type": "code",
   "execution_count": 22,
   "metadata": {},
   "outputs": [],
   "source": [
    "\n",
    "\n",
    "# Import packages\n",
    "import pool.paths as paths\n",
    "import os\n",
    "import matplotlib.pyplot as plt\n",
    "%matplotlib inline\n",
    "import numpy as np\n",
    "import pandas as pd\n",
    "import pool.hdf5_io as hio\n",
    "import scipy.stats as st\n",
    "\n"
   ]
  },
  {
   "cell_type": "code",
   "execution_count": 23,
   "metadata": {
    "collapsed": true
   },
   "outputs": [],
   "source": [
    "#filenames\n",
    "demographics_file_name=os.path.join(paths.data_dir,'demographics_qc.csv')"
   ]
  },
  {
   "cell_type": "code",
   "execution_count": 24,
   "metadata": {},
   "outputs": [],
   "source": [
    "# Load demographics csv file. Preprocessing including QC has already occured\n",
    "demographics=pd.read_csv(demographics_file_name)"
   ]
  },
  {
   "cell_type": "code",
   "execution_count": 25,
   "metadata": {},
   "outputs": [],
   "source": [
    "# Calculate no of patients\n",
    "no_patients = len(demographics['ID'])\n",
    "\n",
    "# Calculate median age at preop scan & IQR\n",
    "age_median = np.nanmedian(demographics['Age at preoperative'])\n",
    "age_iqr = np.nanpercentile(demographics['Age at preoperative'],25),np.nanpercentile(demographics['Age at preoperative'],75)\n",
    "\n",
    "# Sex\n",
    "female = np.nansum(demographics['Sex'])\n",
    "male = np.sum(demographics['Sex']==0)\n",
    "demographics[np.isnan(demographics['Sex'])]\n",
    "#check no significant difference in number of males and females using binomial test\n",
    "sex_p_val = st.binom_test(female,no_patients,0.5)\n",
    "\n",
    "# Age of onset of epilesy median  & IQR\n",
    "onset_median= np.nanmedian(demographics['Age of onset'])\n",
    "onset_iqr = np.nanpercentile(demographics['Age of onset'],25),np.nanpercentile(demographics['Age of onset'],75)\n",
    "\n",
    "# Duration of epilepsy median & IQR\n",
    "duration_median = np.nanmedian(demographics['Duration'])\n",
    "duration_iqr = np.nanpercentile(demographics['Duration'],25),np.nanpercentile(demographics['Duration'],75)\n",
    "\n",
    "# No of patients who had surgery\n",
    "surgery = np.nansum(demographics['Surgery'])\n",
    "no_surgery = no_patients-surgery\n",
    "\n",
    "# No of patients with histology data available\n",
    "histo_FCD1 = demographics.groupby('Histology').count().ID['FCD_1']\n",
    "histo_FCD2A = demographics.groupby('Histology').count().ID['FCD_2A']\n",
    "histo_FCD2B = demographics.groupby('Histology').count().ID['FCD_2B']\n",
    "histo_FCD3 = demographics.groupby('Histology').count().ID['FCD_3']\n",
    "histo_total = histo_FCD1 + histo_FCD2A +histo_FCD2B +histo_FCD3\n",
    "\n",
    "f_u_median = np.nanmedian(demographics['f/u'])\n",
    "f_u_iqr = np.nanpercentile(demographics['f/u'],25),np.nanpercentile(demographics['f/u'],75)\n",
    "\n"
   ]
  },
  {
   "cell_type": "code",
   "execution_count": 26,
   "metadata": {
    "collapsed": true
   },
   "outputs": [],
   "source": [
    "#percentage of each histology subtype\n",
    "d=demographics.groupby('Histology').count()['ID']\n",
    "q=d/histo_total\n",
    "q=np.round(100*q)\n",
    "histology_df =pd.DataFrame(np.vstack([d,q]).T,columns=['Number of patients','Percentage of total patients with histology'],index=['FCD I', 'FCD IIA', 'FCD IIB', 'FCD III'])\n"
   ]
  },
  {
   "cell_type": "code",
   "execution_count": 27,
   "metadata": {
    "collapsed": true
   },
   "outputs": [],
   "source": [
    "# Seizure freedom rates in each histology\n",
    "s=demographics.groupby('Histology').sum()['Seizure free']\n",
    "s=list(s)\n",
    "s.append(np.sum(s))\n",
    "c=demographics.groupby('Histology').count()['Seizure free']\n",
    "c=list(c)\n",
    "c.append(np.sum(c))\n",
    "m=list(demographics.groupby('Histology').mean()['Seizure free'])\n",
    "m.append(s[-1]/c[-1])\n",
    "outcome = pd.DataFrame(np.vstack([s,c,np.round(100*np.array(m))]).T,columns=['Number of patients seizure free','Number of patients with outcome data','Percent seizure free (%)'], index=['FCD I', 'FCD IIA', 'FCD IIB', 'FCD III', 'All histologies'])"
   ]
  },
  {
   "cell_type": "code",
   "execution_count": 28,
   "metadata": {},
   "outputs": [
    {
     "data": {
      "text/html": [
       "<div>\n",
       "<style scoped>\n",
       "    .dataframe tbody tr th:only-of-type {\n",
       "        vertical-align: middle;\n",
       "    }\n",
       "\n",
       "    .dataframe tbody tr th {\n",
       "        vertical-align: top;\n",
       "    }\n",
       "\n",
       "    .dataframe thead th {\n",
       "        text-align: right;\n",
       "    }\n",
       "</style>\n",
       "<table border=\"1\" class=\"dataframe\">\n",
       "  <thead>\n",
       "    <tr style=\"text-align: right;\">\n",
       "      <th></th>\n",
       "      <th></th>\n",
       "      <th>Patients (n= 580)</th>\n",
       "    </tr>\n",
       "  </thead>\n",
       "  <tbody>\n",
       "    <tr>\n",
       "      <th>0</th>\n",
       "      <td>Age at preoperative scan (median,IQR)</td>\n",
       "      <td>19.0 , (11.0 - 31.3)</td>\n",
       "    </tr>\n",
       "    <tr>\n",
       "      <th>1</th>\n",
       "      <td>Sex (f:m)</td>\n",
       "      <td>281 : 298</td>\n",
       "    </tr>\n",
       "    <tr>\n",
       "      <th>2</th>\n",
       "      <td>Age of epilepsy onset (median,IQR)</td>\n",
       "      <td>6.0 , (2.5 - 12.0)</td>\n",
       "    </tr>\n",
       "    <tr>\n",
       "      <th>3</th>\n",
       "      <td>Duration of epilepsy (median,IQR)</td>\n",
       "      <td>10.4 , (4.9 - 19.0)</td>\n",
       "    </tr>\n",
       "    <tr>\n",
       "      <th>4</th>\n",
       "      <td>Surgery</td>\n",
       "      <td>423 / 580 (73.0%)</td>\n",
       "    </tr>\n",
       "    <tr>\n",
       "      <th>5</th>\n",
       "      <td>Histology</td>\n",
       "      <td>380 / 580 (66.0%)</td>\n",
       "    </tr>\n",
       "    <tr>\n",
       "      <th>6</th>\n",
       "      <td>Seizure free</td>\n",
       "      <td>319 / 580 (55.0%)</td>\n",
       "    </tr>\n",
       "    <tr>\n",
       "      <th>7</th>\n",
       "      <td>Follow up time</td>\n",
       "      <td>2.0 , (1.0 - 3.1)</td>\n",
       "    </tr>\n",
       "  </tbody>\n",
       "</table>\n",
       "</div>"
      ],
      "text/plain": [
       "                                             Patients (n= 580)\n",
       "0  Age at preoperative scan (median,IQR)  19.0 , (11.0 - 31.3)\n",
       "1                              Sex (f:m)             281 : 298\n",
       "2     Age of epilepsy onset (median,IQR)    6.0 , (2.5 - 12.0)\n",
       "3      Duration of epilepsy (median,IQR)   10.4 , (4.9 - 19.0)\n",
       "4                                Surgery     423 / 580 (73.0%)\n",
       "5                              Histology     380 / 580 (66.0%)\n",
       "6                           Seizure free     319 / 580 (55.0%)\n",
       "7                         Follow up time     2.0 , (1.0 - 3.1)"
      ]
     },
     "execution_count": 28,
     "metadata": {},
     "output_type": "execute_result"
    }
   ],
   "source": [
    "#Create data frame\n",
    "data = {'':  ['Age at preoperative scan (median,IQR)',\n",
    "             'Sex (f:m)',\n",
    "             'Age of epilepsy onset (median,IQR)',\n",
    "             'Duration of epilepsy (median,IQR)',\n",
    "             'Surgery',\n",
    "             'Histology',\n",
    "             'Seizure free','Follow up time'],\n",
    "        'Patients (n= {})'.format(no_patients): ['{} , ({} - {})'.format(round(age_median,2), np.round(age_iqr,2)[0],np.round(age_iqr,2)[1]),\n",
    "                                                 '{} : {}'.format(int(female), male),\n",
    "                                                '{} , ({} - {})'.format(round(onset_median,2), np.round(onset_iqr,2)[0],np.round(onset_iqr,2)[1]),\n",
    "                                                '{} , ({} - {})'.format(round(duration_median,2), np.round(duration_iqr,2)[0],np.round(duration_iqr,2)[1]),\n",
    "                                                '{} / {} ({}%)'.format(int(surgery), int(no_surgery+surgery), round(100*(surgery/(no_surgery+surgery)),0)),\n",
    "                                                '{} / {} ({}%)'.format(int(histo_total),int(no_patients), round(100*(histo_total/no_patients),0)),\n",
    "                                                '{} / {} ({}%)'.format(int(outcome.iloc[4][1]),int(no_patients), round(100*(outcome.iloc[4][1]/no_patients),0)),\n",
    "                                                '{} , ({} - {})'.format(round(f_u_median,2),\n",
    "                                                                       np.round(f_u_iqr,2)[0],\n",
    "                                                np.round(f_u_iqr,2)[1])],\n",
    "        }\n",
    "df = pd.DataFrame (data)\n",
    "df"
   ]
  },
  {
   "cell_type": "code",
   "execution_count": 29,
   "metadata": {},
   "outputs": [
    {
     "name": "stdout",
     "output_type": "stream",
     "text": [
      "0.6785079928952042 0.5098039215686274\n"
     ]
    }
   ],
   "source": [
    "# Calculate percent of patients age of onset under 10 years\n",
    "print(np.mean(demographics['Age of onset'].dropna()<10),np.mean(demographics['Duration'].dropna()>10))"
   ]
  },
  {
   "cell_type": "code",
   "execution_count": 30,
   "metadata": {},
   "outputs": [
    {
     "data": {
      "text/html": [
       "<div>\n",
       "<style scoped>\n",
       "    .dataframe tbody tr th:only-of-type {\n",
       "        vertical-align: middle;\n",
       "    }\n",
       "\n",
       "    .dataframe tbody tr th {\n",
       "        vertical-align: top;\n",
       "    }\n",
       "\n",
       "    .dataframe thead th {\n",
       "        text-align: right;\n",
       "    }\n",
       "</style>\n",
       "<table border=\"1\" class=\"dataframe\">\n",
       "  <thead>\n",
       "    <tr style=\"text-align: right;\">\n",
       "      <th></th>\n",
       "      <th>Number of patients seizure free</th>\n",
       "      <th>Number of patients with outcome data</th>\n",
       "      <th>Percent seizure free (%)</th>\n",
       "    </tr>\n",
       "  </thead>\n",
       "  <tbody>\n",
       "    <tr>\n",
       "      <th>FCD I</th>\n",
       "      <td>24.0</td>\n",
       "      <td>38.0</td>\n",
       "      <td>63.0</td>\n",
       "    </tr>\n",
       "    <tr>\n",
       "      <th>FCD IIA</th>\n",
       "      <td>71.0</td>\n",
       "      <td>101.0</td>\n",
       "      <td>70.0</td>\n",
       "    </tr>\n",
       "    <tr>\n",
       "      <th>FCD IIB</th>\n",
       "      <td>112.0</td>\n",
       "      <td>162.0</td>\n",
       "      <td>69.0</td>\n",
       "    </tr>\n",
       "    <tr>\n",
       "      <th>FCD III</th>\n",
       "      <td>12.0</td>\n",
       "      <td>18.0</td>\n",
       "      <td>67.0</td>\n",
       "    </tr>\n",
       "    <tr>\n",
       "      <th>All histologies</th>\n",
       "      <td>219.0</td>\n",
       "      <td>319.0</td>\n",
       "      <td>69.0</td>\n",
       "    </tr>\n",
       "  </tbody>\n",
       "</table>\n",
       "</div>"
      ],
      "text/plain": [
       "                 Number of patients seizure free  \\\n",
       "FCD I                                       24.0   \n",
       "FCD IIA                                     71.0   \n",
       "FCD IIB                                    112.0   \n",
       "FCD III                                     12.0   \n",
       "All histologies                            219.0   \n",
       "\n",
       "                 Number of patients with outcome data  \\\n",
       "FCD I                                            38.0   \n",
       "FCD IIA                                         101.0   \n",
       "FCD IIB                                         162.0   \n",
       "FCD III                                          18.0   \n",
       "All histologies                                 319.0   \n",
       "\n",
       "                 Percent seizure free (%)  \n",
       "FCD I                                63.0  \n",
       "FCD IIA                              70.0  \n",
       "FCD IIB                              69.0  \n",
       "FCD III                              67.0  \n",
       "All histologies                      69.0  "
      ]
     },
     "execution_count": 30,
     "metadata": {},
     "output_type": "execute_result"
    }
   ],
   "source": [
    "outcome"
   ]
  },
  {
   "cell_type": "code",
   "execution_count": 31,
   "metadata": {},
   "outputs": [
    {
     "data": {
      "text/html": [
       "<div>\n",
       "<style scoped>\n",
       "    .dataframe tbody tr th:only-of-type {\n",
       "        vertical-align: middle;\n",
       "    }\n",
       "\n",
       "    .dataframe tbody tr th {\n",
       "        vertical-align: top;\n",
       "    }\n",
       "\n",
       "    .dataframe thead th {\n",
       "        text-align: right;\n",
       "    }\n",
       "</style>\n",
       "<table border=\"1\" class=\"dataframe\">\n",
       "  <thead>\n",
       "    <tr style=\"text-align: right;\">\n",
       "      <th>Seizure free</th>\n",
       "      <th>0.0</th>\n",
       "      <th>1.0</th>\n",
       "    </tr>\n",
       "    <tr>\n",
       "      <th>Histology</th>\n",
       "      <th></th>\n",
       "      <th></th>\n",
       "    </tr>\n",
       "  </thead>\n",
       "  <tbody>\n",
       "    <tr>\n",
       "      <th>FCD_1</th>\n",
       "      <td>14</td>\n",
       "      <td>24</td>\n",
       "    </tr>\n",
       "    <tr>\n",
       "      <th>FCD_2A</th>\n",
       "      <td>30</td>\n",
       "      <td>71</td>\n",
       "    </tr>\n",
       "    <tr>\n",
       "      <th>FCD_2B</th>\n",
       "      <td>50</td>\n",
       "      <td>112</td>\n",
       "    </tr>\n",
       "    <tr>\n",
       "      <th>FCD_3</th>\n",
       "      <td>6</td>\n",
       "      <td>12</td>\n",
       "    </tr>\n",
       "  </tbody>\n",
       "</table>\n",
       "</div>"
      ],
      "text/plain": [
       "Seizure free  0.0  1.0\n",
       "Histology             \n",
       "FCD_1          14   24\n",
       "FCD_2A         30   71\n",
       "FCD_2B         50  112\n",
       "FCD_3           6   12"
      ]
     },
     "execution_count": 31,
     "metadata": {},
     "output_type": "execute_result"
    }
   ],
   "source": [
    "import scipy.stats as stats\n",
    "\n",
    "#Checks that there is no significant difference in outcome according to subtype\n",
    "df_clean=demographics[['Histology','Seizure free']].dropna()\n",
    "contingency_table = pd.crosstab(\n",
    "                df_clean['Histology'],\n",
    "                df_clean['Seizure free'],\n",
    "                margins = False\n",
    "            )\n",
    "f_obs = np.array(contingency_table)\n",
    "stat_,p= stats.chi2_contingency(f_obs)[0:2]\n",
    "contingency_table\n"
   ]
  },
  {
   "cell_type": "code",
   "execution_count": 32,
   "metadata": {},
   "outputs": [
    {
     "data": {
      "text/plain": [
       "32"
      ]
     },
     "execution_count": 32,
     "metadata": {},
     "output_type": "execute_result"
    }
   ],
   "source": [
    "# No of patients missing lesion masks\n",
    "no_patients-np.sum(demographics.lesion_masked)"
   ]
  },
  {
   "cell_type": "code",
   "execution_count": 33,
   "metadata": {},
   "outputs": [
    {
     "name": "stdout",
     "output_type": "stream",
     "text": [
      "266\n",
      "282\n"
     ]
    }
   ],
   "source": [
    "# No of patients with lesions lh\n",
    "print(np.sum(demographics.Hemisphere == 'lh'))\n",
    "# No of patients with lesions rh\n",
    "print(np.sum(demographics.Hemisphere == 'rh'))"
   ]
  },
  {
   "cell_type": "code",
   "execution_count": 34,
   "metadata": {},
   "outputs": [
    {
     "data": {
      "text/plain": [
       "Lobe\n",
       "frontal      279\n",
       "occipital     20\n",
       "parietal      91\n",
       "temporal     158\n",
       "Name: ID, dtype: int64"
      ]
     },
     "execution_count": 34,
     "metadata": {},
     "output_type": "execute_result"
    }
   ],
   "source": [
    "# No of lesions in each lobe\n",
    "demographics.groupby('Lobe').count()['ID']"
   ]
  },
  {
   "cell_type": "code",
   "execution_count": 35,
   "metadata": {
    "collapsed": true
   },
   "outputs": [],
   "source": [
    "#Import /define functions for plotting\n",
    "import matplotlib\n",
    "def lighten_color(color, amount=0.5):\n",
    "    \"\"\"\n",
    "    Lightens the given color by multiplying (1-luminosity) by the given amount.\n",
    "    Input can be matplotlib color string, hex string, or RGB tuple.\n",
    "\n",
    "    Examples:\n",
    "    >> lighten_color('g', 0.3)\n",
    "    >> lighten_color('#F034A3', 0.6)\n",
    "    >> lighten_color((.3,.55,.1), 0.5)\n",
    "    \"\"\"\n",
    "    import matplotlib.colors as mc\n",
    "    import colorsys\n",
    "    try:\n",
    "        c = mc.cnames[color]\n",
    "    except:\n",
    "        c = color\n",
    "    c = colorsys.rgb_to_hls(*mc.to_rgb(c))\n",
    "    return colorsys.hls_to_rgb(c[0], 1 - amount * (1 - c[1]), c[2])\n",
    "\n",
    "def plot_mosaic(contingency_table, var1, var2,test_to_use,widths,stat_, p):\n",
    "    \"\"\" plot categorical relationships with bar plots\"\"\"\n",
    "    fig = plt.figure(figsize=(10,10))\n",
    "    font = {'family' : 'Times New Roman',\n",
    "        'weight' : 'normal',\n",
    "        'size'   : 60}\n",
    "    \n",
    "    matplotlib.rc('font', **font)\n",
    "    #plt.rcParams[\"font.family\"] = \"Times New Roman\"\n",
    "    \n",
    "    array_table=np.array(contingency_table)\n",
    "    plots=[]\n",
    "    running_sums=np.zeros(array_table.shape[1])\n",
    "    colours=np.array([[176, 146, 59],[137, 96, 179],[86, 174, 108],[186, 73, 91]])/255\n",
    "    spacing = (np.cumsum(widths)+np.cumsum(np.hstack([0,widths[:-1]])))/2+np.arange(4)/80\n",
    "    \n",
    "    for variable in np.arange(array_table.shape[0]):\n",
    "        mat_col=np.tile(colours[variable],(4,1))\n",
    "        for k,c in enumerate(mat_col):\n",
    "            mat_col[k]=lighten_color(c,amount=0.7+(3-k)/8)\n",
    "        plots+=plt.bar(spacing, array_table[variable,:],\n",
    "                      bottom=running_sums,color=mat_col,\n",
    "                       label=contingency_table.index[variable].capitalize(),\n",
    "                      width = widths,\n",
    "                      )\n",
    "        running_sums+=array_table[variable,:]+0.005\n",
    "    plt.ylabel('Proportion of patients')\n",
    "    #plt.title('{} - {}'.format(var1,var2))\n",
    "    names=['I','IIA','IIB','III']\n",
    "    \n",
    "    plt.xticks(spacing,names)\n",
    "\n",
    "    plt.xlabel('Histopathological subtype')\n",
    "    plt.yticks([0,0.5,1])\n",
    "    plt.legend(loc=(1.01,.45))#plots)#plots, contingency_table.index,)\n",
    "    plt.annotate( '{} = {:.1f}\\np < {:.3f}'.format(test_to_use.capitalize(),stat_, 0.001),xy=(1.02,.2), xycoords='axes fraction')\n",
    "    return fig"
   ]
  },
  {
   "cell_type": "code",
   "execution_count": 36,
   "metadata": {
    "collapsed": true
   },
   "outputs": [],
   "source": [
    "# Calculate proportion of patients with lesions in each lobe for each histological subtype\n",
    "df = demographics\n",
    "var2='Histology'\n",
    "var1='Lobe'\n",
    "df_clean=df[[var1,var2]].dropna()\n",
    "contingency_table = pd.crosstab(\n",
    "                df_clean[var1],\n",
    "                df_clean[var2],\n",
    "                margins = False\n",
    "            )\n",
    "stat_,p,dof, exp= stats.chi2_contingency(contingency_table)\n",
    "widths = np.array(np.sum(contingency_table))/200\n",
    "contingency_table = contingency_table/np.array(np.sum(contingency_table))"
   ]
  },
  {
   "cell_type": "code",
   "execution_count": 37,
   "metadata": {},
   "outputs": [
    {
     "data": {
      "image/png": "[encoded data removed]",
      "text/plain": [
       "<Figure size 720x720 with 1 Axes>"
      ]
     },
     "metadata": {
      "needs_background": "light"
     },
     "output_type": "display_data"
    }
   ],
   "source": [
    "fig=plot_mosaic(contingency_table, var2, var1,'chi',widths,stat_, p)\n",
    "fig.savefig(os.path.join(paths.fig_dir,'Histology_lobe.pdf'))"
   ]
  },
  {
   "cell_type": "code",
   "execution_count": null,
   "metadata": {
    "collapsed": true
   },
   "outputs": [],
   "source": []
  }
 ],
 "metadata": {
  "kernelspec": {
   "display_name": "meld_classifier",
   "language": "python",
   "name": "meld_classifier"
  },
  "language_info": {
   "codemirror_mode": {
    "name": "ipython",
    "version": 3
   },
   "file_extension": ".py",
   "mimetype": "text/x-python",
   "name": "python",
   "nbconvert_exporter": "python",
   "pygments_lexer": "ipython3",
   "version": "3.6.10"
  }
 },
 "nbformat": 4,
 "nbformat_minor": 2
}
